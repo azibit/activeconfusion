{
 "cells": [
  {
   "cell_type": "code",
   "execution_count": 1,
   "metadata": {},
   "outputs": [],
   "source": [
    "import pandas as pd"
   ]
  },
  {
   "cell_type": "code",
   "execution_count": 3,
   "metadata": {},
   "outputs": [],
   "source": [
    "df = pd.read_csv('image_data_epoch_0.csv')"
   ]
  },
  {
   "cell_type": "code",
   "execution_count": 6,
   "metadata": {},
   "outputs": [
    {
     "data": {
      "text/html": [
       "<div>\n",
       "<style scoped>\n",
       "    .dataframe tbody tr th:only-of-type {\n",
       "        vertical-align: middle;\n",
       "    }\n",
       "\n",
       "    .dataframe tbody tr th {\n",
       "        vertical-align: top;\n",
       "    }\n",
       "\n",
       "    .dataframe thead th {\n",
       "        text-align: right;\n",
       "    }\n",
       "</style>\n",
       "<table border=\"1\" class=\"dataframe\">\n",
       "  <thead>\n",
       "    <tr style=\"text-align: right;\">\n",
       "      <th></th>\n",
       "      <th>path</th>\n",
       "      <th>loss</th>\n",
       "      <th>confusion_score</th>\n",
       "    </tr>\n",
       "  </thead>\n",
       "  <tbody>\n",
       "    <tr>\n",
       "      <th>8</th>\n",
       "      <td>./DATA/train/0/43530.png</td>\n",
       "      <td>1.420048</td>\n",
       "      <td>1.0</td>\n",
       "    </tr>\n",
       "    <tr>\n",
       "      <th>22</th>\n",
       "      <td>./DATA/train/0/3594.png</td>\n",
       "      <td>1.389230</td>\n",
       "      <td>1.0</td>\n",
       "    </tr>\n",
       "    <tr>\n",
       "      <th>24</th>\n",
       "      <td>./DATA/train/0/14607.png</td>\n",
       "      <td>1.568628</td>\n",
       "      <td>1.0</td>\n",
       "    </tr>\n",
       "    <tr>\n",
       "      <th>45</th>\n",
       "      <td>./DATA/train/0/23137.png</td>\n",
       "      <td>1.381596</td>\n",
       "      <td>1.0</td>\n",
       "    </tr>\n",
       "    <tr>\n",
       "      <th>47</th>\n",
       "      <td>./DATA/train/0/5077.png</td>\n",
       "      <td>1.719405</td>\n",
       "      <td>1.0</td>\n",
       "    </tr>\n",
       "    <tr>\n",
       "      <th>...</th>\n",
       "      <td>...</td>\n",
       "      <td>...</td>\n",
       "      <td>...</td>\n",
       "    </tr>\n",
       "    <tr>\n",
       "      <th>49984</th>\n",
       "      <td>./DATA/train/98/1291.png</td>\n",
       "      <td>1.402057</td>\n",
       "      <td>1.0</td>\n",
       "    </tr>\n",
       "    <tr>\n",
       "      <th>49992</th>\n",
       "      <td>./DATA/train/98/40126.png</td>\n",
       "      <td>1.493159</td>\n",
       "      <td>1.0</td>\n",
       "    </tr>\n",
       "    <tr>\n",
       "      <th>49994</th>\n",
       "      <td>./DATA/train/98/9784.png</td>\n",
       "      <td>1.540290</td>\n",
       "      <td>1.0</td>\n",
       "    </tr>\n",
       "    <tr>\n",
       "      <th>49995</th>\n",
       "      <td>./DATA/train/98/39449.png</td>\n",
       "      <td>1.601377</td>\n",
       "      <td>1.0</td>\n",
       "    </tr>\n",
       "    <tr>\n",
       "      <th>49996</th>\n",
       "      <td>./DATA/train/98/19102.png</td>\n",
       "      <td>1.408734</td>\n",
       "      <td>1.0</td>\n",
       "    </tr>\n",
       "  </tbody>\n",
       "</table>\n",
       "<p>5261 rows × 3 columns</p>\n",
       "</div>"
      ],
      "text/plain": [
       "                            path      loss  confusion_score\n",
       "8       ./DATA/train/0/43530.png  1.420048              1.0\n",
       "22       ./DATA/train/0/3594.png  1.389230              1.0\n",
       "24      ./DATA/train/0/14607.png  1.568628              1.0\n",
       "45      ./DATA/train/0/23137.png  1.381596              1.0\n",
       "47       ./DATA/train/0/5077.png  1.719405              1.0\n",
       "...                          ...       ...              ...\n",
       "49984   ./DATA/train/98/1291.png  1.402057              1.0\n",
       "49992  ./DATA/train/98/40126.png  1.493159              1.0\n",
       "49994   ./DATA/train/98/9784.png  1.540290              1.0\n",
       "49995  ./DATA/train/98/39449.png  1.601377              1.0\n",
       "49996  ./DATA/train/98/19102.png  1.408734              1.0\n",
       "\n",
       "[5261 rows x 3 columns]"
      ]
     },
     "execution_count": 6,
     "metadata": {},
     "output_type": "execute_result"
    }
   ],
   "source": [
    "df[df['confusion_score'] == 1.00]"
   ]
  },
  {
   "cell_type": "code",
   "execution_count": 15,
   "metadata": {},
   "outputs": [
    {
     "data": {
      "text/plain": [
       "1.0334761549449047"
      ]
     },
     "execution_count": 15,
     "metadata": {},
     "output_type": "execute_result"
    }
   ],
   "source": []
  },
  {
   "cell_type": "code",
   "execution_count": 16,
   "metadata": {},
   "outputs": [
    {
     "name": "stdout",
     "output_type": "stream",
     "text": [
      "Avg Loss for Confusion Score 0 is: 1.1792795147544655\n",
      "Avg Loss for Confusion Score 0.25 is: 1.0334761549449047\n",
      "Avg Loss for Confusion Score 0.5 is: 1.2756593330950041\n",
      "Avg Loss for Confusion Score 0.75 is: 1.3862339025717287\n",
      "Avg Loss for Confusion Score 1.0 is: 1.4947347544916816\n"
     ]
    }
   ],
   "source": [
    "confusion_scores = [0, 0.25, 0.5, 0.75, 1.0]\n",
    "\n",
    "for conf_score in confusion_scores:\n",
    "    sorted_df = df[df['confusion_score'] == conf_score].sort_values(by='loss', ascending=True)\n",
    "\n",
    "    print(f\"Avg Loss for Confusion Score {conf_score} is: {sorted_df['loss'].mean()}\")"
   ]
  },
  {
   "cell_type": "code",
   "execution_count": null,
   "metadata": {},
   "outputs": [],
   "source": []
  }
 ],
 "metadata": {
  "kernelspec": {
   "display_name": "Python 3",
   "language": "python",
   "name": "python3"
  },
  "language_info": {
   "codemirror_mode": {
    "name": "ipython",
    "version": 3
   },
   "file_extension": ".py",
   "mimetype": "text/x-python",
   "name": "python",
   "nbconvert_exporter": "python",
   "pygments_lexer": "ipython3",
   "version": "3.10.12"
  }
 },
 "nbformat": 4,
 "nbformat_minor": 2
}
